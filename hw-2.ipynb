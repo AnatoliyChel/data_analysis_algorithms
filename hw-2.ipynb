{
 "cells": [
  {
   "cell_type": "markdown",
   "metadata": {},
   "source": [
    "1. Сгенерировать датасет при помощи sklearn.datasets.make_regression и обучить линейную модель при помощи градиентного спуска и стохастического градиентного спуска. Построить графики среднеквадратичной ошибки от числа итераций для обоих методов на одном рисунке, сделать выводы о разнице скорости сходимости каждого из методов."
   ]
  },
  {
   "cell_type": "code",
   "execution_count": 22,
   "metadata": {},
   "outputs": [],
   "source": [
    "import numpy as np\n",
    "from sklearn import datasets\n",
    "import matplotlib.pyplot as plt"
   ]
  },
  {
   "cell_type": "code",
   "execution_count": 2,
   "metadata": {},
   "outputs": [],
   "source": [
    "def calc_mse(y, y_pred):\n",
    "    err = np.mean((y - y_pred)**2)\n",
    "    return err"
   ]
  },
  {
   "cell_type": "code",
   "execution_count": 95,
   "metadata": {},
   "outputs": [],
   "source": [
    "# тренировочный набор\n",
    "X_, y_, coef = datasets.make_regression(n_samples=10000, \n",
    "                                      n_features=2, \n",
    "                                      n_informative=2, \n",
    "                                      n_targets=1,\n",
    "                                      noise=5, \n",
    "                                      coef=True, \n",
    "                                      random_state=42)"
   ]
  },
  {
   "cell_type": "code",
   "execution_count": 50,
   "metadata": {},
   "outputs": [],
   "source": [
    "# Метод градиентного спуска\n",
    "def eval_GD(X, y, iterations, alpha=1e-4):\n",
    "    out = []\n",
    "    np.random.seed(42)\n",
    "    w = np.random.randn(X.shape[1])\n",
    "    n = X.shape[0]\n",
    "    for i in range(1, iterations + 1):\n",
    "        y_pred = np.dot(X, w)\n",
    "        err = calc_mse(y, y_pred)\n",
    "        w -= alpha * (1/n * 2 * np.dot((y_pred - y), X))\n",
    "        out.append([i,err])\n",
    "        if i % (iterations / 10) == 0:\n",
    "            print(i, w, err)\n",
    "            \n",
    "    return w, err, np.array(out)"
   ]
  },
  {
   "cell_type": "code",
   "execution_count": 57,
   "metadata": {},
   "outputs": [],
   "source": [
    "# SGD - стохастический градиентный спуск\n",
    "def eval_SGD(X, y, iterations, alpha=1e-4):\n",
    "    out = []\n",
    "    np.random.seed(42)\n",
    "    w = np.random.randn(X.shape[1]) # начальное приближение весов\n",
    "    n = X.shape[0] # число наблюдений\n",
    "    for i in range(1, iterations + 1):\n",
    "        err = calc_mse(y, np.dot(X, w))\n",
    "        # генерируем случайный индекс объекта выборки\n",
    "        ind = np.random.randint(n)\n",
    "        y_pred = np.dot(X[ind], w)\n",
    "        w -= alpha * (2 * np.dot((y_pred - y[ind]), X[ind]))\n",
    "        out.append([i,err])\n",
    "        if i % (iterations / 10) == 0:\n",
    "            print(i, w, err)\n",
    "            \n",
    "    return w, err, np.array(out)"
   ]
  },
  {
   "cell_type": "code",
   "execution_count": 92,
   "metadata": {},
   "outputs": [
    {
     "name": "stdout",
     "output_type": "stream",
     "text": [
      "100 [85.21677474  4.7531069 ] 208.94260587535814\n",
      "200 [96.7708608   5.44628793] 28.003900339983264\n",
      "300 [98.34662483  5.54412976] 24.637602707058896\n",
      "400 [98.56153282  5.55789222] 24.57497295083162\n",
      "500 [98.59084306  5.5598222 ] 24.573807711556157\n",
      "600 [98.59484058  5.56009214] 24.573786031777928\n",
      "700 [98.5953858  5.5601298] 24.57378562841206\n",
      "800 [98.59546016  5.56013505] 24.573785620907113\n",
      "900 [98.5954703   5.56013578] 24.573785620767485\n",
      "1000 [98.59547168  5.56013588] 24.57378562076488\n"
     ]
    }
   ],
   "source": [
    "lr_GD, err_GD, lr_GD_out = eval_GD(X_, y_, 1000, alpha=1e-2)"
   ]
  },
  {
   "cell_type": "code",
   "execution_count": 94,
   "metadata": {},
   "outputs": [
    {
     "name": "stdout",
     "output_type": "stream",
     "text": [
      "100 [92.63972269  3.10153521] 67.02483896221433\n",
      "200 [97.78243554  5.2070897 ] 25.316758327298764\n",
      "300 [98.23914403  5.23795665] 24.84082809643939\n",
      "400 [98.24152365  5.27631845] 24.77602772242678\n",
      "500 [97.61008287  5.13323322] 25.949991317190744\n",
      "600 [98.64265778  4.66763273] 25.312681609912104\n",
      "700 [98.84602424  6.18020275] 25.08359123346521\n",
      "800 [98.24216128  6.43037873] 25.390979338638008\n",
      "900 [99.76115067  5.29541999] 26.22534387676491\n",
      "1000 [99.09971622  5.57463741] 24.827465242076492\n"
     ]
    }
   ],
   "source": [
    "lr_SGD, err_SGD, lr_SGD_out = eval_SGD(X_, y_, 1000, alpha=1e-2)"
   ]
  },
  {
   "cell_type": "code",
   "execution_count": 90,
   "metadata": {},
   "outputs": [
    {
     "data": {
      "image/png": "[encoded data removed]",
      "text/plain": [
       "<Figure size 720x360 with 1 Axes>"
      ]
     },
     "metadata": {
      "needs_background": "light"
     },
     "output_type": "display_data"
    }
   ],
   "source": [
    "plt.figure(figsize=(10, 5))\n",
    "plt.xscale('log')\n",
    "plt.yscale('log')\n",
    "plt.plot(lr_GD_out[:,0], lr_GD_out[:,1], label=\"град спуск\")\n",
    "plt.plot(lr_SGD_out[:,0], lr_SGD_out[:,1], \"r\", label=\"стох град спуск\")\n",
    "plt.xlabel('Кол-во иитераций')\n",
    "plt.ylabel('Среднеквадратичная ошибка')\n",
    "plt.grid()\n",
    "plt.legend();"
   ]
  },
  {
   "cell_type": "markdown",
   "metadata": {},
   "source": [
    "согласно графику стохастический метод дает в конечном итоге немного более быстрый результат, но делает это в рваном темпе (то в плюс то с минус). обычный градиентный спуск дает стабильно плавный результат, но несколько медленнее"
   ]
  },
  {
   "cell_type": "markdown",
   "metadata": {},
   "source": [
    "2.[*] Добавить в алгоритм градиентного спуска L1 регуляризацию. Сравнить влияние коэффициентов регуляризации L1 и L2 на величину весов (лучше графически)."
   ]
  },
  {
   "cell_type": "code",
   "execution_count": 97,
   "metadata": {},
   "outputs": [],
   "source": [
    "# регуляризация L2\n",
    "def eval_model_reg2(X, y, iterations, alpha=1e-4, lambda_=1e-8, verbose=False):\n",
    "    np.random.seed(42)\n",
    "    w = np.random.randn(X.shape[1])\n",
    "    n = X.shape[0]\n",
    "    for i in range(1, iterations + 1):\n",
    "        y_pred = np.dot(X, w)\n",
    "        err = calc_mse(y, y_pred)\n",
    "        w -= alpha * (1/n * 2 * np.dot((y_pred - y), X) + 2 * lambda_ * w)\n",
    "        if verbose and i % (iterations / 10) == 0:\n",
    "            print(i, w, err)\n",
    "    return w"
   ]
  },
  {
   "cell_type": "code",
   "execution_count": 106,
   "metadata": {},
   "outputs": [],
   "source": [
    "# регуляризация L1\n",
    "def eval_model_reg1(X, y, iterations, alpha=1e-4, lambda_=1e-8, verbose=False):\n",
    "    np.random.seed(42)\n",
    "    w = np.random.randn(X.shape[1])\n",
    "    n = X.shape[0]\n",
    "    for i in range(1, iterations + 1):\n",
    "        y_pred = np.dot(X, w)\n",
    "        err = calc_mse(y, y_pred)\n",
    "        w -= alpha * (1/n * 2 * np.dot((y_pred - y), X) + (lambda_ * w) / np.abs(w))        \n",
    "        if verbose and i % (iterations / 10) == 0:\n",
    "            print(i, w, err)\n",
    "    return w"
   ]
  },
  {
   "cell_type": "code",
   "execution_count": 112,
   "metadata": {},
   "outputs": [],
   "source": [
    "w_list = []\n",
    "l_list = []\n",
    "error_list = []\n",
    "\n",
    "for l in np.logspace(start=-4, stop=1, num=20):\n",
    "    l_list.append(l)\n",
    "    w_new = eval_model_reg2(X_, y_, iterations=1000, alpha=1e-2, lambda_=l)\n",
    "    w_list.append(w_new)\n",
    "    error_list.append(calc_mse(y_, np.dot(X_, w_new)))\n",
    "weights2 = np.array(w_list)\n",
    "lamb2 = np.array(l_list)\n",
    "errors2 = np.array(error_list)"
   ]
  },
  {
   "cell_type": "code",
   "execution_count": 113,
   "metadata": {},
   "outputs": [],
   "source": [
    "w_list = []\n",
    "l_list = []\n",
    "error_list = []\n",
    "\n",
    "for l in np.logspace(start=-4, stop=1, num=20):\n",
    "    l_list.append(l)\n",
    "    w_new = eval_model_reg1(X_, y_, iterations=1000, alpha=1e-2, lambda_=l)\n",
    "    w_list.append(w_new)\n",
    "    error_list.append(calc_mse(y_, np.dot(X_, w_new)))\n",
    "weights1 = np.array(w_list)\n",
    "lamb1 = np.array(l_list)\n",
    "errors1 = np.array(error_list)"
   ]
  },
  {
   "cell_type": "code",
   "execution_count": 116,
   "metadata": {},
   "outputs": [
    {
     "data": {
      "image/png": "[encoded data removed]",
      "text/plain": [
       "<Figure size 720x360 with 1 Axes>"
      ]
     },
     "metadata": {
      "needs_background": "light"
     },
     "output_type": "display_data"
    }
   ],
   "source": [
    "plt.figure(figsize=(10, 5))\n",
    "plt.xscale('log')\n",
    "# plt.yscale('log')\n",
    "plt.plot(lamb2, weights2, label=\"L2\")\n",
    "plt.plot(lamb1, weights1, label=\"L1\")\n",
    "plt.xlabel('lambda')\n",
    "plt.ylabel('Веса')\n",
    "plt.grid()\n",
    "plt.legend();"
   ]
  },
  {
   "cell_type": "code",
   "execution_count": 114,
   "metadata": {},
   "outputs": [
    {
     "data": {
      "text/plain": [
       "array([  24.57388449,   24.57411773,   24.57490108,   24.5775312 ,\n",
       "         24.58635698,   24.6159427 ,   24.71493286,   25.04500231,\n",
       "         26.13868601,   29.72159063,   41.22164217,   76.8232955 ,\n",
       "        180.40097061,  452.55723477, 1064.82427061, 2178.10410608,\n",
       "       3747.13044781, 5450.63969626, 6922.84557976, 7993.08377256])"
      ]
     },
     "execution_count": 114,
     "metadata": {},
     "output_type": "execute_result"
    }
   ],
   "source": [
    "errors2"
   ]
  },
  {
   "cell_type": "code",
   "execution_count": 115,
   "metadata": {},
   "outputs": [
    {
     "data": {
      "text/plain": [
       "array([24.57378563, 24.57378564, 24.57378568, 24.57378581, 24.57378626,\n",
       "       24.57378776, 24.57379281, 24.57380976, 24.57386674, 24.57405816,\n",
       "       24.57470128, 24.57686206, 24.58412188, 24.60851351, 24.69046492,\n",
       "       24.9658067 , 25.89090488, 28.99906641, 39.44192389, 74.5280265 ])"
      ]
     },
     "execution_count": 115,
     "metadata": {},
     "output_type": "execute_result"
    }
   ],
   "source": [
    "errors1"
   ]
  },
  {
   "cell_type": "markdown",
   "metadata": {},
   "source": [
    "ПРи L2 веса уменьшаются стремительно, что приводит к огромной ошибке. При L1 веса меняются очень плавно и мягко, ошибка при этом растет не катастрофично."
   ]
  }
 ],
 "metadata": {
  "kernelspec": {
   "display_name": "Python 3",
   "language": "python",
   "name": "python3"
  },
  "language_info": {
   "codemirror_mode": {
    "name": "ipython",
    "version": 3
   },
   "file_extension": ".py",
   "mimetype": "text/x-python",
   "name": "python",
   "nbconvert_exporter": "python",
   "pygments_lexer": "ipython3",
   "version": "3.8.5"
  }
 },
 "nbformat": 4,
 "nbformat_minor": 4
}
